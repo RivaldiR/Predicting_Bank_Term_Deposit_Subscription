{
  "cells": [
    {
      "cell_type": "markdown",
      "metadata": {
        "id": "pfDMRF19wRwh"
      },
      "source": [
        "```\n",
        "=================================================\n",
        " Model Inference\n",
        "=================================================\n",
        "```"
      ]
    },
    {
      "cell_type": "markdown",
      "metadata": {
        "id": "hH0tLvAxwjRG"
      },
      "source": [
        "# **J. Model Inference**"
      ]
    },
    {
      "cell_type": "markdown",
      "metadata": {
        "id": "hDT40OxbwnY-"
      },
      "source": [
        "Model yang sudah dilatih akan dicoba pada data yang bukan termasuk ke dalam train-set ataupun test-set. Data ini harus dalam format yang asli, bukan data yang sudah di-scaled. Model Inference harus berada pada notebook yang berbeda dari notebook yang dipakai untuk pembuatan model."
      ]
    },
    {
      "cell_type": "code",
      "execution_count": 1,
      "metadata": {
        "id": "VzODNnJazAQE"
      },
      "outputs": [],
      "source": [
        "# Import libraries\n",
        "import pandas as pd\n",
        "import joblib"
      ]
    },
    {
      "cell_type": "code",
      "execution_count": 2,
      "metadata": {
        "id": "tXirR4s8DLZ7"
      },
      "outputs": [],
      "source": [
        "# Load pipeline model\n",
        "model = joblib.load('model_pipeline_SVM.pkl')"
      ]
    },
    {
      "cell_type": "markdown",
      "metadata": {
        "id": "iwS0Rt0PzxvZ"
      },
      "source": [
        "## **J.1 - Data User 1**"
      ]
    },
    {
      "cell_type": "code",
      "execution_count": 3,
      "metadata": {
        "colab": {
          "base_uri": "https://localhost:8080/",
          "height": 89
        },
        "id": "Jpgj9VNRyDSb",
        "outputId": "3bddacee-1bcb-4010-d474-a36a363fe057"
      },
      "outputs": [
        {
          "data": {
            "text/html": [
              "<div>\n",
              "<style scoped>\n",
              "    .dataframe tbody tr th:only-of-type {\n",
              "        vertical-align: middle;\n",
              "    }\n",
              "\n",
              "    .dataframe tbody tr th {\n",
              "        vertical-align: top;\n",
              "    }\n",
              "\n",
              "    .dataframe thead th {\n",
              "        text-align: right;\n",
              "    }\n",
              "</style>\n",
              "<table border=\"1\" class=\"dataframe\">\n",
              "  <thead>\n",
              "    <tr style=\"text-align: right;\">\n",
              "      <th></th>\n",
              "      <th>age</th>\n",
              "      <th>job</th>\n",
              "      <th>marital</th>\n",
              "      <th>education</th>\n",
              "      <th>default</th>\n",
              "      <th>balance</th>\n",
              "      <th>housing</th>\n",
              "      <th>loan</th>\n",
              "      <th>contact</th>\n",
              "      <th>day</th>\n",
              "      <th>month</th>\n",
              "      <th>duration</th>\n",
              "      <th>campaign</th>\n",
              "      <th>pdays</th>\n",
              "      <th>previous</th>\n",
              "      <th>poutcome</th>\n",
              "    </tr>\n",
              "  </thead>\n",
              "  <tbody>\n",
              "    <tr>\n",
              "      <th>0</th>\n",
              "      <td>35</td>\n",
              "      <td>technician</td>\n",
              "      <td>married</td>\n",
              "      <td>unknown</td>\n",
              "      <td>no</td>\n",
              "      <td>550</td>\n",
              "      <td>no</td>\n",
              "      <td>yes</td>\n",
              "      <td>cellular</td>\n",
              "      <td>25</td>\n",
              "      <td>jun</td>\n",
              "      <td>30</td>\n",
              "      <td>2</td>\n",
              "      <td>-1</td>\n",
              "      <td>0</td>\n",
              "      <td>unknown</td>\n",
              "    </tr>\n",
              "  </tbody>\n",
              "</table>\n",
              "</div>"
            ],
            "text/plain": [
              "   age         job  marital education default  balance housing loan   contact  \\\n",
              "0   35  technician  married   unknown      no      550      no  yes  cellular   \n",
              "\n",
              "   day month  duration  campaign  pdays  previous poutcome  \n",
              "0   25   jun        30         2     -1         0  unknown  "
            ]
          },
          "execution_count": 3,
          "metadata": {},
          "output_type": "execute_result"
        }
      ],
      "source": [
        "# Create a new data user 1\n",
        "# Use all columns not just the results of feature selection\n",
        "\n",
        "user1_inf = {\n",
        "    'age': 35,\n",
        "    'job': 'technician',\n",
        "    'marital': 'married',\n",
        "    'education': 'unknown',  # Changed to 'unknown'\n",
        "    'default': 'no',\n",
        "    'balance': 550,\n",
        "    'housing': 'no',\n",
        "    'loan': 'yes',\n",
        "    'contact': 'cellular',\n",
        "    'day': 25,\n",
        "    'month': 'jun',\n",
        "    'duration': 30,\n",
        "    'campaign': 2,\n",
        "    'pdays': -1,\n",
        "    'previous': 0,\n",
        "    'poutcome': 'unknown',\n",
        "}\n",
        "\n",
        "user1_inf = pd.DataFrame([user1_inf])\n",
        "user1_inf"
      ]
    },
    {
      "cell_type": "code",
      "execution_count": 4,
      "metadata": {
        "colab": {
          "base_uri": "https://localhost:8080/"
        },
        "id": "FkgC73VyDcf-",
        "outputId": "7d9e27a2-6e7d-4a65-c864-56db8916028a"
      },
      "outputs": [
        {
          "name": "stdout",
          "output_type": "stream",
          "text": [
            "Hasil Prediksi (Class): 0\n"
          ]
        }
      ],
      "source": [
        "# Prediksi probabilitas dan kelas\n",
        "predicted_class = model.predict(user1_inf)\n",
        "\n",
        "\n",
        "print(\"Hasil Prediksi (Class):\", predicted_class[0])"
      ]
    },
    {
      "cell_type": "markdown",
      "metadata": {
        "id": "c-__yVhhR219"
      },
      "source": [
        "## **J.2 - Data User 2**"
      ]
    },
    {
      "cell_type": "code",
      "execution_count": 5,
      "metadata": {
        "colab": {
          "base_uri": "https://localhost:8080/",
          "height": 89
        },
        "id": "H1yUFsCSR9II",
        "outputId": "76d53516-a2be-43eb-ee7e-e77f2c64ce47"
      },
      "outputs": [
        {
          "data": {
            "text/html": [
              "<div>\n",
              "<style scoped>\n",
              "    .dataframe tbody tr th:only-of-type {\n",
              "        vertical-align: middle;\n",
              "    }\n",
              "\n",
              "    .dataframe tbody tr th {\n",
              "        vertical-align: top;\n",
              "    }\n",
              "\n",
              "    .dataframe thead th {\n",
              "        text-align: right;\n",
              "    }\n",
              "</style>\n",
              "<table border=\"1\" class=\"dataframe\">\n",
              "  <thead>\n",
              "    <tr style=\"text-align: right;\">\n",
              "      <th></th>\n",
              "      <th>age</th>\n",
              "      <th>job</th>\n",
              "      <th>marital</th>\n",
              "      <th>education</th>\n",
              "      <th>default</th>\n",
              "      <th>balance</th>\n",
              "      <th>housing</th>\n",
              "      <th>loan</th>\n",
              "      <th>contact</th>\n",
              "      <th>day</th>\n",
              "      <th>month</th>\n",
              "      <th>duration</th>\n",
              "      <th>campaign</th>\n",
              "      <th>pdays</th>\n",
              "      <th>previous</th>\n",
              "      <th>poutcome</th>\n",
              "    </tr>\n",
              "  </thead>\n",
              "  <tbody>\n",
              "    <tr>\n",
              "      <th>0</th>\n",
              "      <td>45</td>\n",
              "      <td>management</td>\n",
              "      <td>divorced</td>\n",
              "      <td>tertiary</td>\n",
              "      <td>no</td>\n",
              "      <td>1200</td>\n",
              "      <td>yes</td>\n",
              "      <td>no</td>\n",
              "      <td>telephone</td>\n",
              "      <td>10</td>\n",
              "      <td>aug</td>\n",
              "      <td>150</td>\n",
              "      <td>1</td>\n",
              "      <td>90</td>\n",
              "      <td>1</td>\n",
              "      <td>success</td>\n",
              "    </tr>\n",
              "  </tbody>\n",
              "</table>\n",
              "</div>"
            ],
            "text/plain": [
              "   age         job   marital education default  balance housing loan  \\\n",
              "0   45  management  divorced  tertiary      no     1200     yes   no   \n",
              "\n",
              "     contact  day month  duration  campaign  pdays  previous poutcome  \n",
              "0  telephone   10   aug       150         1     90         1  success  "
            ]
          },
          "execution_count": 5,
          "metadata": {},
          "output_type": "execute_result"
        }
      ],
      "source": [
        "# Create a new data user 2 with different characteristics to see how the model predicts\n",
        "user2_inf = {\n",
        "    'age': 45,\n",
        "    'job': 'management',\n",
        "    'marital': 'divorced',\n",
        "    'education': 'tertiary',\n",
        "    'default': 'no',\n",
        "    'balance': 1200,\n",
        "    'housing': 'yes',\n",
        "    'loan': 'no',\n",
        "    'contact': 'telephone',\n",
        "    'day': 10,\n",
        "    'month': 'aug',\n",
        "    'duration': 150,\n",
        "    'campaign': 1,\n",
        "    'pdays': 90,\n",
        "    'previous': 1,\n",
        "    'poutcome': 'success',\n",
        "}\n",
        "\n",
        "user2_inf = pd.DataFrame([user2_inf])\n",
        "user2_inf"
      ]
    },
    {
      "cell_type": "code",
      "execution_count": 6,
      "metadata": {
        "colab": {
          "base_uri": "https://localhost:8080/"
        },
        "id": "F854z0dpR_5l",
        "outputId": "26b8320f-8fe5-4c80-b4fe-e4907da6d140"
      },
      "outputs": [
        {
          "name": "stdout",
          "output_type": "stream",
          "text": [
            "Hasil Prediksi (Class) for User 2: 1\n"
          ]
        }
      ],
      "source": [
        "# Prediksi probabilitas dan kelas untuk User 2\n",
        "predicted_class_user2 = model.predict(user2_inf)\n",
        "\n",
        "print(\"Hasil Prediksi (Class) for User 2:\", predicted_class_user2[0])"
      ]
    },
    {
      "cell_type": "markdown",
      "metadata": {
        "id": "mcrvDCk-TbNI"
      },
      "source": [
        "Insight :\n",
        "\n",
        "- User 1 (Prediksi = 0): Durasi percakapan singkat, ada pinjaman aktif, dan tidak ada riwayat promosi sukses → kecil kemungkinan membuka deposito.\n",
        "\n",
        "- User 2 (Prediksi = 1): Durasi percakapan lama, saldo tinggi, tidak ada pinjaman, dan riwayat promosi sukses → besar kemungkinan membuka deposito."
      ]
    }
  ],
  "metadata": {
    "colab": {
      "provenance": []
    },
    "kernelspec": {
      "display_name": "h8_env",
      "language": "python",
      "name": "python3"
    },
    "language_info": {
      "codemirror_mode": {
        "name": "ipython",
        "version": 3
      },
      "file_extension": ".py",
      "mimetype": "text/x-python",
      "name": "python",
      "nbconvert_exporter": "python",
      "pygments_lexer": "ipython3",
      "version": "3.9.23"
    }
  },
  "nbformat": 4,
  "nbformat_minor": 0
}
